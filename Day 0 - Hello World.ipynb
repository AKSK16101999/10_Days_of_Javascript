{
 "cells": [
  {
   "cell_type": "markdown",
   "id": "c7f7d04d",
   "metadata": {},
   "source": [
    "# Task"
   ]
  },
  {
   "cell_type": "markdown",
   "id": "672ea25c",
   "metadata": {},
   "source": [
    "A greeting function is provided for you in the editor below. It has one parameter, . Perform the following tasks to complete this challenge:\n",
    "\n",
    "Use console.log() to print Hello, World! on a new line in the console, which is also known as stdout or standard output. The code for this portion of the task is already provided in the editor.\n",
    "Use console.log() to print the contents of  (i.e., the argument passed to main).\n",
    "You've got this!\n",
    "\n",
    "Input Format\n",
    "\n",
    "Data Type\tParameter\tDescription\n",
    "string\tParameterVariable\tA single line of text containing one or more space-separated words.\n",
    "Output Format\n",
    "\n",
    "Print the following two lines of output:\n",
    "\n",
    "On the first line, print Hello, World! (this is provided for you in the editor).\n",
    "On the second line, print the contents of ParameterVariable .\n",
    "Sample Input 0\n",
    "\n",
    "Welcome to 10 Days of JavaScript!\n",
    "Sample Output 0\n",
    "\n",
    "Hello, World!\n",
    "Welcome to 10 Days of JavaScript!\n",
    "Explanation 0\n",
    "\n",
    "We printed two lines of output:\n",
    "\n",
    "We printed the literal string Hello, World! using the code provided in the editor.\n",
    "The value of ParameterVariable passed to our main function in this Sample Case was Welcome to 10 Days of JavaScript!. We then passed our variable to console.log, which printed the contents ofParameterVariable .\n"
   ]
  },
  {
   "cell_type": "markdown",
   "id": "69cd7696",
   "metadata": {},
   "source": [
    "# Code"
   ]
  },
  {
   "cell_type": "code",
   "execution_count": null,
   "id": "71e7aa11",
   "metadata": {},
   "outputs": [],
   "source": [
    "'use strict';\n",
    "\n",
    "process.stdin.resume();\n",
    "process.stdin.setEncoding('utf-8');\n",
    "\n",
    "let inputString = '';\n",
    "let currentLine = 0;\n",
    "\n",
    "process.stdin.on('data', inputStdin => {\n",
    "    inputString += inputStdin;\n",
    "});\n",
    "\n",
    "process.stdin.on('end', _ => {\n",
    "    inputString = inputString.trim().split('\\n').map(string => {\n",
    "        return string.trim();\n",
    "    });\n",
    "    \n",
    "    main();    \n",
    "});\n",
    "\n",
    "function readLine() {\n",
    "    return inputString[currentLine++];\n",
    "}\n",
    "\n",
    "/**\n",
    "*   A line of code that prints \"Hello, World!\" on a new line is provided in the editor. \n",
    "*   Write a second line of code that prints the contents of 'parameterVariable' on a new line.\n",
    "*\n",
    "*\tParameter:\n",
    "*   parameterVariable - A string of text.\n",
    "**/\n",
    "function greeting(parameterVariable) {\n",
    "    // This line prints 'Hello, World!' to the console:\n",
    "    console.log('Hello, World!');\n",
    "\n",
    "    // Write a line of code that prints parameterVariable to stdout using console.log:\n",
    "    console.log(parameterVariable);\n",
    "}\n",
    "\n",
    "\n",
    "function main() {\n",
    "    const parameterVariable = readLine();\n",
    "    \n",
    "    greeting(parameterVariable);\n",
    "}"
   ]
  }
 ],
 "metadata": {
  "kernelspec": {
   "display_name": "Python 3",
   "language": "python",
   "name": "python3"
  },
  "language_info": {
   "codemirror_mode": {
    "name": "ipython",
    "version": 3
   },
   "file_extension": ".py",
   "mimetype": "text/x-python",
   "name": "python",
   "nbconvert_exporter": "python",
   "pygments_lexer": "ipython3",
   "version": "3.6.9"
  }
 },
 "nbformat": 4,
 "nbformat_minor": 5
}
